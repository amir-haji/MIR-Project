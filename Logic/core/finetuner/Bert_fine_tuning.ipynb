{
  "nbformat": 4,
  "nbformat_minor": 0,
  "metadata": {
    "colab": {
      "provenance": [],
      "gpuType": "T4"
    },
    "kernelspec": {
      "name": "python3",
      "display_name": "Python 3"
    },
    "language_info": {
      "name": "python"
    },
    "accelerator": "GPU",
    "widgets": {
      "application/vnd.jupyter.widget-state+json": {
        "cf419130b66f4317ae1e190084e60b7f": {
          "model_module": "@jupyter-widgets/controls",
          "model_name": "HBoxModel",
          "model_module_version": "1.5.0",
          "state": {
            "_dom_classes": [],
            "_model_module": "@jupyter-widgets/controls",
            "_model_module_version": "1.5.0",
            "_model_name": "HBoxModel",
            "_view_count": null,
            "_view_module": "@jupyter-widgets/controls",
            "_view_module_version": "1.5.0",
            "_view_name": "HBoxView",
            "box_style": "",
            "children": [
              "IPY_MODEL_f64e91213194489d9601e2a40472dc5e",
              "IPY_MODEL_719752b9e93e4e75a3c4e7e58c3b1a3c",
              "IPY_MODEL_eab2caf94a31474eb0872214dc2a43b1"
            ],
            "layout": "IPY_MODEL_3bc636ecea8247ebac783d2a7075e1eb"
          }
        },
        "f64e91213194489d9601e2a40472dc5e": {
          "model_module": "@jupyter-widgets/controls",
          "model_name": "HTMLModel",
          "model_module_version": "1.5.0",
          "state": {
            "_dom_classes": [],
            "_model_module": "@jupyter-widgets/controls",
            "_model_module_version": "1.5.0",
            "_model_name": "HTMLModel",
            "_view_count": null,
            "_view_module": "@jupyter-widgets/controls",
            "_view_module_version": "1.5.0",
            "_view_name": "HTMLView",
            "description": "",
            "description_tooltip": null,
            "layout": "IPY_MODEL_776d4aba86a74654ac6ce63ee264d435",
            "placeholder": "​",
            "style": "IPY_MODEL_e6d815408a1f490aabe67de47f838c8d",
            "value": "README.md: 100%"
          }
        },
        "719752b9e93e4e75a3c4e7e58c3b1a3c": {
          "model_module": "@jupyter-widgets/controls",
          "model_name": "FloatProgressModel",
          "model_module_version": "1.5.0",
          "state": {
            "_dom_classes": [],
            "_model_module": "@jupyter-widgets/controls",
            "_model_module_version": "1.5.0",
            "_model_name": "FloatProgressModel",
            "_view_count": null,
            "_view_module": "@jupyter-widgets/controls",
            "_view_module_version": "1.5.0",
            "_view_name": "ProgressView",
            "bar_style": "success",
            "description": "",
            "description_tooltip": null,
            "layout": "IPY_MODEL_8e1859fbb00a4b93b909a99d3dbae6f8",
            "max": 5174,
            "min": 0,
            "orientation": "horizontal",
            "style": "IPY_MODEL_e2422cddae224efda1ef8d0cd21b0a80",
            "value": 5174
          }
        },
        "eab2caf94a31474eb0872214dc2a43b1": {
          "model_module": "@jupyter-widgets/controls",
          "model_name": "HTMLModel",
          "model_module_version": "1.5.0",
          "state": {
            "_dom_classes": [],
            "_model_module": "@jupyter-widgets/controls",
            "_model_module_version": "1.5.0",
            "_model_name": "HTMLModel",
            "_view_count": null,
            "_view_module": "@jupyter-widgets/controls",
            "_view_module_version": "1.5.0",
            "_view_name": "HTMLView",
            "description": "",
            "description_tooltip": null,
            "layout": "IPY_MODEL_1e92524529cd4acbaba45431bfa25308",
            "placeholder": "​",
            "style": "IPY_MODEL_17c1fcdede044529a652963e3c5cce24",
            "value": " 5.17k/5.17k [00:00&lt;00:00, 348kB/s]"
          }
        },
        "3bc636ecea8247ebac783d2a7075e1eb": {
          "model_module": "@jupyter-widgets/base",
          "model_name": "LayoutModel",
          "model_module_version": "1.2.0",
          "state": {
            "_model_module": "@jupyter-widgets/base",
            "_model_module_version": "1.2.0",
            "_model_name": "LayoutModel",
            "_view_count": null,
            "_view_module": "@jupyter-widgets/base",
            "_view_module_version": "1.2.0",
            "_view_name": "LayoutView",
            "align_content": null,
            "align_items": null,
            "align_self": null,
            "border": null,
            "bottom": null,
            "display": null,
            "flex": null,
            "flex_flow": null,
            "grid_area": null,
            "grid_auto_columns": null,
            "grid_auto_flow": null,
            "grid_auto_rows": null,
            "grid_column": null,
            "grid_gap": null,
            "grid_row": null,
            "grid_template_areas": null,
            "grid_template_columns": null,
            "grid_template_rows": null,
            "height": null,
            "justify_content": null,
            "justify_items": null,
            "left": null,
            "margin": null,
            "max_height": null,
            "max_width": null,
            "min_height": null,
            "min_width": null,
            "object_fit": null,
            "object_position": null,
            "order": null,
            "overflow": null,
            "overflow_x": null,
            "overflow_y": null,
            "padding": null,
            "right": null,
            "top": null,
            "visibility": null,
            "width": null
          }
        },
        "776d4aba86a74654ac6ce63ee264d435": {
          "model_module": "@jupyter-widgets/base",
          "model_name": "LayoutModel",
          "model_module_version": "1.2.0",
          "state": {
            "_model_module": "@jupyter-widgets/base",
            "_model_module_version": "1.2.0",
            "_model_name": "LayoutModel",
            "_view_count": null,
            "_view_module": "@jupyter-widgets/base",
            "_view_module_version": "1.2.0",
            "_view_name": "LayoutView",
            "align_content": null,
            "align_items": null,
            "align_self": null,
            "border": null,
            "bottom": null,
            "display": null,
            "flex": null,
            "flex_flow": null,
            "grid_area": null,
            "grid_auto_columns": null,
            "grid_auto_flow": null,
            "grid_auto_rows": null,
            "grid_column": null,
            "grid_gap": null,
            "grid_row": null,
            "grid_template_areas": null,
            "grid_template_columns": null,
            "grid_template_rows": null,
            "height": null,
            "justify_content": null,
            "justify_items": null,
            "left": null,
            "margin": null,
            "max_height": null,
            "max_width": null,
            "min_height": null,
            "min_width": null,
            "object_fit": null,
            "object_position": null,
            "order": null,
            "overflow": null,
            "overflow_x": null,
            "overflow_y": null,
            "padding": null,
            "right": null,
            "top": null,
            "visibility": null,
            "width": null
          }
        },
        "e6d815408a1f490aabe67de47f838c8d": {
          "model_module": "@jupyter-widgets/controls",
          "model_name": "DescriptionStyleModel",
          "model_module_version": "1.5.0",
          "state": {
            "_model_module": "@jupyter-widgets/controls",
            "_model_module_version": "1.5.0",
            "_model_name": "DescriptionStyleModel",
            "_view_count": null,
            "_view_module": "@jupyter-widgets/base",
            "_view_module_version": "1.2.0",
            "_view_name": "StyleView",
            "description_width": ""
          }
        },
        "8e1859fbb00a4b93b909a99d3dbae6f8": {
          "model_module": "@jupyter-widgets/base",
          "model_name": "LayoutModel",
          "model_module_version": "1.2.0",
          "state": {
            "_model_module": "@jupyter-widgets/base",
            "_model_module_version": "1.2.0",
            "_model_name": "LayoutModel",
            "_view_count": null,
            "_view_module": "@jupyter-widgets/base",
            "_view_module_version": "1.2.0",
            "_view_name": "LayoutView",
            "align_content": null,
            "align_items": null,
            "align_self": null,
            "border": null,
            "bottom": null,
            "display": null,
            "flex": null,
            "flex_flow": null,
            "grid_area": null,
            "grid_auto_columns": null,
            "grid_auto_flow": null,
            "grid_auto_rows": null,
            "grid_column": null,
            "grid_gap": null,
            "grid_row": null,
            "grid_template_areas": null,
            "grid_template_columns": null,
            "grid_template_rows": null,
            "height": null,
            "justify_content": null,
            "justify_items": null,
            "left": null,
            "margin": null,
            "max_height": null,
            "max_width": null,
            "min_height": null,
            "min_width": null,
            "object_fit": null,
            "object_position": null,
            "order": null,
            "overflow": null,
            "overflow_x": null,
            "overflow_y": null,
            "padding": null,
            "right": null,
            "top": null,
            "visibility": null,
            "width": null
          }
        },
        "e2422cddae224efda1ef8d0cd21b0a80": {
          "model_module": "@jupyter-widgets/controls",
          "model_name": "ProgressStyleModel",
          "model_module_version": "1.5.0",
          "state": {
            "_model_module": "@jupyter-widgets/controls",
            "_model_module_version": "1.5.0",
            "_model_name": "ProgressStyleModel",
            "_view_count": null,
            "_view_module": "@jupyter-widgets/base",
            "_view_module_version": "1.2.0",
            "_view_name": "StyleView",
            "bar_color": null,
            "description_width": ""
          }
        },
        "1e92524529cd4acbaba45431bfa25308": {
          "model_module": "@jupyter-widgets/base",
          "model_name": "LayoutModel",
          "model_module_version": "1.2.0",
          "state": {
            "_model_module": "@jupyter-widgets/base",
            "_model_module_version": "1.2.0",
            "_model_name": "LayoutModel",
            "_view_count": null,
            "_view_module": "@jupyter-widgets/base",
            "_view_module_version": "1.2.0",
            "_view_name": "LayoutView",
            "align_content": null,
            "align_items": null,
            "align_self": null,
            "border": null,
            "bottom": null,
            "display": null,
            "flex": null,
            "flex_flow": null,
            "grid_area": null,
            "grid_auto_columns": null,
            "grid_auto_flow": null,
            "grid_auto_rows": null,
            "grid_column": null,
            "grid_gap": null,
            "grid_row": null,
            "grid_template_areas": null,
            "grid_template_columns": null,
            "grid_template_rows": null,
            "height": null,
            "justify_content": null,
            "justify_items": null,
            "left": null,
            "margin": null,
            "max_height": null,
            "max_width": null,
            "min_height": null,
            "min_width": null,
            "object_fit": null,
            "object_position": null,
            "order": null,
            "overflow": null,
            "overflow_x": null,
            "overflow_y": null,
            "padding": null,
            "right": null,
            "top": null,
            "visibility": null,
            "width": null
          }
        },
        "17c1fcdede044529a652963e3c5cce24": {
          "model_module": "@jupyter-widgets/controls",
          "model_name": "DescriptionStyleModel",
          "model_module_version": "1.5.0",
          "state": {
            "_model_module": "@jupyter-widgets/controls",
            "_model_module_version": "1.5.0",
            "_model_name": "DescriptionStyleModel",
            "_view_count": null,
            "_view_module": "@jupyter-widgets/base",
            "_view_module_version": "1.2.0",
            "_view_name": "StyleView",
            "description_width": ""
          }
        },
        "0bd0412c017840a4bac1e9d9d39541aa": {
          "model_module": "@jupyter-widgets/controls",
          "model_name": "HBoxModel",
          "model_module_version": "1.5.0",
          "state": {
            "_dom_classes": [],
            "_model_module": "@jupyter-widgets/controls",
            "_model_module_version": "1.5.0",
            "_model_name": "HBoxModel",
            "_view_count": null,
            "_view_module": "@jupyter-widgets/controls",
            "_view_module_version": "1.5.0",
            "_view_name": "HBoxView",
            "box_style": "",
            "children": [
              "IPY_MODEL_6d7535681b024fedafb1bbf6b1886bc6",
              "IPY_MODEL_2fb542491f7747698f636cd02c95a0d2",
              "IPY_MODEL_20ff4860e8864eeb8c23c2b721ca1a95"
            ],
            "layout": "IPY_MODEL_b01304624c7b4717a173f76e2231ae1d"
          }
        },
        "6d7535681b024fedafb1bbf6b1886bc6": {
          "model_module": "@jupyter-widgets/controls",
          "model_name": "HTMLModel",
          "model_module_version": "1.5.0",
          "state": {
            "_dom_classes": [],
            "_model_module": "@jupyter-widgets/controls",
            "_model_module_version": "1.5.0",
            "_model_name": "HTMLModel",
            "_view_count": null,
            "_view_module": "@jupyter-widgets/controls",
            "_view_module_version": "1.5.0",
            "_view_name": "HTMLView",
            "description": "",
            "description_tooltip": null,
            "layout": "IPY_MODEL_27886bcf91be4fd0b3eb70a146fb2353",
            "placeholder": "​",
            "style": "IPY_MODEL_78e0fa5444a448038d9758ff91ed2737",
            "value": "model.safetensors: 100%"
          }
        },
        "2fb542491f7747698f636cd02c95a0d2": {
          "model_module": "@jupyter-widgets/controls",
          "model_name": "FloatProgressModel",
          "model_module_version": "1.5.0",
          "state": {
            "_dom_classes": [],
            "_model_module": "@jupyter-widgets/controls",
            "_model_module_version": "1.5.0",
            "_model_name": "FloatProgressModel",
            "_view_count": null,
            "_view_module": "@jupyter-widgets/controls",
            "_view_module_version": "1.5.0",
            "_view_name": "ProgressView",
            "bar_style": "success",
            "description": "",
            "description_tooltip": null,
            "layout": "IPY_MODEL_135ef7b353204655a7b69f34737de6f0",
            "max": 437967876,
            "min": 0,
            "orientation": "horizontal",
            "style": "IPY_MODEL_44ce2990017c488bb850749ca25d5627",
            "value": 437967876
          }
        },
        "20ff4860e8864eeb8c23c2b721ca1a95": {
          "model_module": "@jupyter-widgets/controls",
          "model_name": "HTMLModel",
          "model_module_version": "1.5.0",
          "state": {
            "_dom_classes": [],
            "_model_module": "@jupyter-widgets/controls",
            "_model_module_version": "1.5.0",
            "_model_name": "HTMLModel",
            "_view_count": null,
            "_view_module": "@jupyter-widgets/controls",
            "_view_module_version": "1.5.0",
            "_view_name": "HTMLView",
            "description": "",
            "description_tooltip": null,
            "layout": "IPY_MODEL_806200795e70429cbadb424fd8d205e1",
            "placeholder": "​",
            "style": "IPY_MODEL_213d0f4a1124410e8d6defdf4276aaba",
            "value": " 438M/438M [00:14&lt;00:00, 41.5MB/s]"
          }
        },
        "b01304624c7b4717a173f76e2231ae1d": {
          "model_module": "@jupyter-widgets/base",
          "model_name": "LayoutModel",
          "model_module_version": "1.2.0",
          "state": {
            "_model_module": "@jupyter-widgets/base",
            "_model_module_version": "1.2.0",
            "_model_name": "LayoutModel",
            "_view_count": null,
            "_view_module": "@jupyter-widgets/base",
            "_view_module_version": "1.2.0",
            "_view_name": "LayoutView",
            "align_content": null,
            "align_items": null,
            "align_self": null,
            "border": null,
            "bottom": null,
            "display": null,
            "flex": null,
            "flex_flow": null,
            "grid_area": null,
            "grid_auto_columns": null,
            "grid_auto_flow": null,
            "grid_auto_rows": null,
            "grid_column": null,
            "grid_gap": null,
            "grid_row": null,
            "grid_template_areas": null,
            "grid_template_columns": null,
            "grid_template_rows": null,
            "height": null,
            "justify_content": null,
            "justify_items": null,
            "left": null,
            "margin": null,
            "max_height": null,
            "max_width": null,
            "min_height": null,
            "min_width": null,
            "object_fit": null,
            "object_position": null,
            "order": null,
            "overflow": null,
            "overflow_x": null,
            "overflow_y": null,
            "padding": null,
            "right": null,
            "top": null,
            "visibility": null,
            "width": null
          }
        },
        "27886bcf91be4fd0b3eb70a146fb2353": {
          "model_module": "@jupyter-widgets/base",
          "model_name": "LayoutModel",
          "model_module_version": "1.2.0",
          "state": {
            "_model_module": "@jupyter-widgets/base",
            "_model_module_version": "1.2.0",
            "_model_name": "LayoutModel",
            "_view_count": null,
            "_view_module": "@jupyter-widgets/base",
            "_view_module_version": "1.2.0",
            "_view_name": "LayoutView",
            "align_content": null,
            "align_items": null,
            "align_self": null,
            "border": null,
            "bottom": null,
            "display": null,
            "flex": null,
            "flex_flow": null,
            "grid_area": null,
            "grid_auto_columns": null,
            "grid_auto_flow": null,
            "grid_auto_rows": null,
            "grid_column": null,
            "grid_gap": null,
            "grid_row": null,
            "grid_template_areas": null,
            "grid_template_columns": null,
            "grid_template_rows": null,
            "height": null,
            "justify_content": null,
            "justify_items": null,
            "left": null,
            "margin": null,
            "max_height": null,
            "max_width": null,
            "min_height": null,
            "min_width": null,
            "object_fit": null,
            "object_position": null,
            "order": null,
            "overflow": null,
            "overflow_x": null,
            "overflow_y": null,
            "padding": null,
            "right": null,
            "top": null,
            "visibility": null,
            "width": null
          }
        },
        "78e0fa5444a448038d9758ff91ed2737": {
          "model_module": "@jupyter-widgets/controls",
          "model_name": "DescriptionStyleModel",
          "model_module_version": "1.5.0",
          "state": {
            "_model_module": "@jupyter-widgets/controls",
            "_model_module_version": "1.5.0",
            "_model_name": "DescriptionStyleModel",
            "_view_count": null,
            "_view_module": "@jupyter-widgets/base",
            "_view_module_version": "1.2.0",
            "_view_name": "StyleView",
            "description_width": ""
          }
        },
        "135ef7b353204655a7b69f34737de6f0": {
          "model_module": "@jupyter-widgets/base",
          "model_name": "LayoutModel",
          "model_module_version": "1.2.0",
          "state": {
            "_model_module": "@jupyter-widgets/base",
            "_model_module_version": "1.2.0",
            "_model_name": "LayoutModel",
            "_view_count": null,
            "_view_module": "@jupyter-widgets/base",
            "_view_module_version": "1.2.0",
            "_view_name": "LayoutView",
            "align_content": null,
            "align_items": null,
            "align_self": null,
            "border": null,
            "bottom": null,
            "display": null,
            "flex": null,
            "flex_flow": null,
            "grid_area": null,
            "grid_auto_columns": null,
            "grid_auto_flow": null,
            "grid_auto_rows": null,
            "grid_column": null,
            "grid_gap": null,
            "grid_row": null,
            "grid_template_areas": null,
            "grid_template_columns": null,
            "grid_template_rows": null,
            "height": null,
            "justify_content": null,
            "justify_items": null,
            "left": null,
            "margin": null,
            "max_height": null,
            "max_width": null,
            "min_height": null,
            "min_width": null,
            "object_fit": null,
            "object_position": null,
            "order": null,
            "overflow": null,
            "overflow_x": null,
            "overflow_y": null,
            "padding": null,
            "right": null,
            "top": null,
            "visibility": null,
            "width": null
          }
        },
        "44ce2990017c488bb850749ca25d5627": {
          "model_module": "@jupyter-widgets/controls",
          "model_name": "ProgressStyleModel",
          "model_module_version": "1.5.0",
          "state": {
            "_model_module": "@jupyter-widgets/controls",
            "_model_module_version": "1.5.0",
            "_model_name": "ProgressStyleModel",
            "_view_count": null,
            "_view_module": "@jupyter-widgets/base",
            "_view_module_version": "1.2.0",
            "_view_name": "StyleView",
            "bar_color": null,
            "description_width": ""
          }
        },
        "806200795e70429cbadb424fd8d205e1": {
          "model_module": "@jupyter-widgets/base",
          "model_name": "LayoutModel",
          "model_module_version": "1.2.0",
          "state": {
            "_model_module": "@jupyter-widgets/base",
            "_model_module_version": "1.2.0",
            "_model_name": "LayoutModel",
            "_view_count": null,
            "_view_module": "@jupyter-widgets/base",
            "_view_module_version": "1.2.0",
            "_view_name": "LayoutView",
            "align_content": null,
            "align_items": null,
            "align_self": null,
            "border": null,
            "bottom": null,
            "display": null,
            "flex": null,
            "flex_flow": null,
            "grid_area": null,
            "grid_auto_columns": null,
            "grid_auto_flow": null,
            "grid_auto_rows": null,
            "grid_column": null,
            "grid_gap": null,
            "grid_row": null,
            "grid_template_areas": null,
            "grid_template_columns": null,
            "grid_template_rows": null,
            "height": null,
            "justify_content": null,
            "justify_items": null,
            "left": null,
            "margin": null,
            "max_height": null,
            "max_width": null,
            "min_height": null,
            "min_width": null,
            "object_fit": null,
            "object_position": null,
            "order": null,
            "overflow": null,
            "overflow_x": null,
            "overflow_y": null,
            "padding": null,
            "right": null,
            "top": null,
            "visibility": null,
            "width": null
          }
        },
        "213d0f4a1124410e8d6defdf4276aaba": {
          "model_module": "@jupyter-widgets/controls",
          "model_name": "DescriptionStyleModel",
          "model_module_version": "1.5.0",
          "state": {
            "_model_module": "@jupyter-widgets/controls",
            "_model_module_version": "1.5.0",
            "_model_name": "DescriptionStyleModel",
            "_view_count": null,
            "_view_module": "@jupyter-widgets/base",
            "_view_module_version": "1.2.0",
            "_view_name": "StyleView",
            "description_width": ""
          }
        }
      }
    }
  },
  "cells": [
    {
      "cell_type": "code",
      "source": [
        "from google.colab import drive\n",
        "drive.mount('/content/drive')"
      ],
      "metadata": {
        "colab": {
          "base_uri": "https://localhost:8080/"
        },
        "id": "W3mzzUsXhgoj",
        "outputId": "4b4dbba5-4121-456c-cb00-f7ca014b32ee"
      },
      "execution_count": 1,
      "outputs": [
        {
          "output_type": "stream",
          "name": "stdout",
          "text": [
            "Mounted at /content/drive\n"
          ]
        }
      ]
    },
    {
      "cell_type": "code",
      "execution_count": 2,
      "metadata": {
        "colab": {
          "base_uri": "https://localhost:8080/"
        },
        "id": "FCVN3k32hdpC",
        "outputId": "99817dd7-e56d-40fc-de29-fa33396bcbcd"
      },
      "outputs": [
        {
          "output_type": "stream",
          "name": "stdout",
          "text": [
            "/content/drive/MyDrive\n"
          ]
        }
      ],
      "source": [
        "%cd drive/MyDrive/"
      ]
    },
    {
      "cell_type": "code",
      "source": [
        "%%capture\n",
        "!pip install evaluate\n",
        "!pip install accelerate -U"
      ],
      "metadata": {
        "id": "YpQDAsYTqFUu"
      },
      "execution_count": 3,
      "outputs": []
    },
    {
      "cell_type": "code",
      "source": [
        "import transformers\n",
        "from transformers import BertTokenizer, BertForSequenceClassification, AdamW, get_linear_schedule_with_warmup, Trainer, TrainingArguments\n",
        "import evaluate\n",
        "import torch\n",
        "import torch.nn as nn\n",
        "from torch.utils.data import random_split, DataLoader\n",
        "\n",
        "import numpy as np\n",
        "import sklearn\n",
        "from sklearn.model_selection import train_test_split\n",
        "from tqdm import tqdm\n",
        "import matplotlib.pyplot as plt\n",
        "import os\n",
        "import json\n",
        "\n",
        "device = 'cuda' if torch.cuda.is_available() else 'cpu'"
      ],
      "metadata": {
        "id": "KsDn9Takhrpw"
      },
      "execution_count": 17,
      "outputs": []
    },
    {
      "cell_type": "code",
      "source": [
        "class BERTFinetuner:\n",
        "    \"\"\"\n",
        "    A class for fine-tuning the BERT model on a movie genre classification task.\n",
        "    \"\"\"\n",
        "\n",
        "    def __init__(self, file_path, top_n_genres=5):\n",
        "        \"\"\"\n",
        "        Initialize the BERTFinetuner class.\n",
        "\n",
        "        Args:\n",
        "            file_path (str): The path to the JSON file containing the dataset.\n",
        "            top_n_genres (int): The number of top genres to consider.\n",
        "        \"\"\"\n",
        "        self.file_path = file_path\n",
        "        self.top_n_genres = top_n_genres\n",
        "\n",
        "        self.accuracy = evaluate.load('accuracy')\n",
        "        self.precision = evaluate.load('precision')\n",
        "        self.recall = evaluate.load('recall')\n",
        "        self.f1 = evaluate.load('f1')\n",
        "\n",
        "    def load_dataset(self):\n",
        "        \"\"\"\n",
        "        Load the dataset from the JSON file.\n",
        "        \"\"\"\n",
        "        with open('IMDB_crawled.json', 'r') as f:\n",
        "          self.data = json.loads(f.read())\n",
        "          f.close()\n",
        "\n",
        "\n",
        "    def preprocess_genre_distribution(self):\n",
        "        \"\"\"\n",
        "        Preprocess the dataset by filtering for the top n genres\n",
        "        \"\"\"\n",
        "        genres = {}\n",
        "        num_movie_genres = 0\n",
        "\n",
        "        for movie in self.data:\n",
        "          if len(movie['genres']) > 0:\n",
        "            num_movie_genres += 1\n",
        "            g = movie['genres'][0]\n",
        "            if g in genres:\n",
        "              genres[g] += 1\n",
        "            else:\n",
        "              genres[g] = 1\n",
        "\n",
        "        sorted_results = sorted(genres.items(), key = lambda x: (x[1], x[0]), reverse = True)\n",
        "        genres = [x[0] for x in sorted_results]\n",
        "        freqs = [x[1] for x in sorted_results]\n",
        "\n",
        "        plt.bar(genres, freqs, color = 'red')\n",
        "        plt.xlabel('genres')\n",
        "        plt.ylabel('frequency')\n",
        "        plt.title('genres distributions visualization')\n",
        "        plt.xticks(range(len(genres)), genres, rotation='vertical')\n",
        "        plt.show()\n",
        "\n",
        "    def split_dataset(self, sentences, labels, test_size=0.2, val_size=0.5):\n",
        "        \"\"\"\n",
        "        Split the dataset into train, validation, and test sets.\n",
        "\n",
        "        Args:\n",
        "            test_size (float): The proportion of the dataset to include in the test split.\n",
        "            val_size (float): The proportion of the dataset to include in the validation split.\n",
        "        \"\"\"\n",
        "        train_txt, test_txt, train_label, test_label = train_test_split(sentences, labels, test_size = test_size, random_state = 42)\n",
        "        val_txt, test_txt, val_label, test_label = train_test_split(test_txt, test_label, test_size = val_size, random_state = 42)\n",
        "\n",
        "        self.tokenizer = BertTokenizer.from_pretrained('bert-base-uncased', do_lower_case=True)\n",
        "\n",
        "        train_encodings = self.tokenizer(train_txt, truncation=True, padding=True)\n",
        "        val_encodings = self.tokenizer(val_txt, truncation=True, padding=True)\n",
        "        test_encodings = self.tokenizer(test_txt, truncation=True, padding=True)\n",
        "\n",
        "        self.train_dataset = IMDbDataset(train_encodings, train_label)\n",
        "        self.val_dataset = IMDbDataset(val_encodings, val_label)\n",
        "        self.test_dataset = IMDbDataset(test_encodings, test_label)\n",
        "\n",
        "        return self.train_dataset, self.val_dataset, self.test_dataset\n",
        "\n",
        "\n",
        "\n",
        "    def create_dataset(self):\n",
        "        \"\"\"\n",
        "        Create a PyTorch dataset from the given encodings and labels.\n",
        "\n",
        "        Args:\n",
        "            encodings (dict): The tokenized input encodings.\n",
        "            labels (list): The corresponding labels.\n",
        "\n",
        "        Returns:\n",
        "            IMDbDataset: A PyTorch dataset object.\n",
        "        \"\"\"\n",
        "        sentences = []\n",
        "        labels = []\n",
        "\n",
        "        for movie in self.data:\n",
        "          if len(movie['genres']) > 0 and movie['first_page_summary'] is not None:\n",
        "            g = movie['genres'][0]\n",
        "            summary = movie['first_page_summary']\n",
        "\n",
        "            if g == 'Drama' or g == 'Romance':\n",
        "              labels.append(0)\n",
        "              sentences.append(summary)\n",
        "            elif g == 'Action' or g == 'Thriller':\n",
        "              labels.append(1)\n",
        "              sentences.append(summary)\n",
        "            elif g == 'Comedy':\n",
        "              labels.append(2)\n",
        "              sentences.append(summary)\n",
        "            elif g == 'Animation':\n",
        "              labels.append(3)\n",
        "              sentences.append(summary)\n",
        "            elif g == 'Crime':\n",
        "              labels.append(4)\n",
        "              sentences.append(summary)\n",
        "            else:\n",
        "              pass\n",
        "\n",
        "        return self.split_dataset(sentences, labels)\n",
        "\n",
        "\n",
        "    def fine_tune_bert(self, epochs=5, batch_size=16, warmup_steps=500, weight_decay=0.01):\n",
        "        \"\"\"\n",
        "        Fine-tune the BERT model on the training data.\n",
        "\n",
        "        Args:\n",
        "            epochs (int): The number of training epochs.\n",
        "            batch_size (int): The batch size for training.\n",
        "            warmup_steps (int): The number of warmup steps for the learning rate scheduler.\n",
        "            weight_decay (float): The strength of weight decay regularization.\n",
        "        \"\"\"\n",
        "        training_args = TrainingArguments(\n",
        "            output_dir='./results',\n",
        "            num_train_epochs=epochs,\n",
        "            per_device_train_batch_size=batch_size,\n",
        "            per_device_eval_batch_size=64,\n",
        "            warmup_steps=warmup_steps,\n",
        "            weight_decay=weight_decay,\n",
        "            logging_dir='./logs',\n",
        "            logging_steps=10,\n",
        "            evaluation_strategy=\"epoch\",\n",
        "            save_strategy=\"epoch\",\n",
        "            load_best_model_at_end=True,\n",
        "            )\n",
        "        self.model = BertForSequenceClassification.from_pretrained(\n",
        "            \"bert-base-uncased\",\n",
        "            num_labels = 5,\n",
        "\n",
        "            output_attentions = False,\n",
        "            output_hidden_states = False,\n",
        "            )\n",
        "\n",
        "        self.model.cuda()\n",
        "\n",
        "        self.trainer = Trainer(\n",
        "            model=self.model,\n",
        "            args=training_args,\n",
        "            train_dataset=self.train_dataset,\n",
        "            eval_dataset=self.val_dataset,\n",
        "            compute_metrics=self.compute_metrics,\n",
        "        )\n",
        "\n",
        "        self.trainer.train()\n",
        "\n",
        "\n",
        "    def compute_metrics(self, pred):\n",
        "        \"\"\"\n",
        "        Compute evaluation metrics based on the predictions.\n",
        "\n",
        "        Args:\n",
        "            pred (EvalPrediction): The model's predictions.\n",
        "\n",
        "        Returns:\n",
        "            dict: A dictionary containing the computed metrics.\n",
        "        \"\"\"\n",
        "        predictions, labels = pred\n",
        "        predictions = np.argmax(predictions, axis=1)\n",
        "        result = {'accuracy': self.accuracy.compute(predictions=predictions, references=labels)['accuracy'],\n",
        "              'precision': self.precision.compute(predictions=predictions, references=labels, average = 'macro')['precision'],\n",
        "              'recall': self.recall.compute(predictions=predictions, references=labels, average = 'macro')['recall'],\n",
        "              'f1': self.f1.compute(predictions=predictions, references=labels, average = 'macro')['f1']}\n",
        "        return result\n",
        "\n",
        "    def evaluate_model(self):\n",
        "        \"\"\"\n",
        "        Evaluate the fine-tuned model on the test set.\n",
        "        \"\"\"\n",
        "        print(self.trainer.evaluate(self.test_dataset))\n",
        "\n",
        "    def save_model(self, model_name):\n",
        "        \"\"\"\n",
        "        Save the fine-tuned model and tokenizer to the Hugging Face Hub.\n",
        "\n",
        "        Args:\n",
        "            model_name (str): The name of the model on the Hugging Face Hub.\n",
        "        \"\"\"\n",
        "        repo_name = f'hajimr80/{model_name}'\n",
        "        self.tokenizer.push_to_hub(repo_name)\n",
        "        self.model.push_to_hub(repo_name)\n",
        "\n",
        "class IMDbDataset(torch.utils.data.Dataset):\n",
        "    \"\"\"\n",
        "    A PyTorch dataset for the movie genre classification task.\n",
        "    \"\"\"\n",
        "\n",
        "    def __init__(self, encodings, labels):\n",
        "        \"\"\"\n",
        "        Initialize the IMDbDataset class.\n",
        "\n",
        "        Args:\n",
        "            encodings (dict): The tokenized input encodings.\n",
        "            labels (list): The corresponding labels.\n",
        "        \"\"\"\n",
        "        # TODO: Implement initialization logic\n",
        "\n",
        "        self.encodings = encodings\n",
        "        self.labels = labels\n",
        "\n",
        "    def __getitem__(self, idx):\n",
        "        \"\"\"\n",
        "        Get a single item from the dataset.\n",
        "\n",
        "        Args:\n",
        "            idx (int): The index of the item to retrieve.\n",
        "\n",
        "        Returns:\n",
        "            dict: A dictionary containing the input encodings and labels.\n",
        "        \"\"\"\n",
        "        # TODO: Implement item retrieval logic\n",
        "        item = {key: torch.tensor(val[idx]) for key, val in self.encodings.items()}\n",
        "        item['labels'] = torch.tensor(self.labels[idx])\n",
        "        return item\n",
        "\n",
        "    def __len__(self):\n",
        "        \"\"\"\n",
        "        Get the length of the dataset.\n",
        "\n",
        "        Returns:\n",
        "            int: The number of items in the dataset.\n",
        "        \"\"\"\n",
        "        # TODO: Implement length computation logic\n",
        "        return len(self.labels)"
      ],
      "metadata": {
        "id": "q3GN0l_Thtdx"
      },
      "execution_count": 48,
      "outputs": []
    },
    {
      "cell_type": "code",
      "source": [
        "# Instantiate the class\n",
        "bert_finetuner = BERTFinetuner('IMDB_crawled.json', top_n_genres=5)"
      ],
      "metadata": {
        "id": "5MRt7-rGfwUY"
      },
      "execution_count": 57,
      "outputs": []
    },
    {
      "cell_type": "code",
      "source": [
        "# Load the dataset\n",
        "bert_finetuner.load_dataset()"
      ],
      "metadata": {
        "id": "RbanBsSdf0Hi"
      },
      "execution_count": 58,
      "outputs": []
    },
    {
      "cell_type": "code",
      "source": [
        "# Preprocess genre distribution\n",
        "bert_finetuner.preprocess_genre_distribution()"
      ],
      "metadata": {
        "colab": {
          "base_uri": "https://localhost:8080/",
          "height": 552
        },
        "id": "IhhJfxFtgBYI",
        "outputId": "3d853ed5-8fba-435c-aa1c-30c585ee8e12"
      },
      "execution_count": 59,
      "outputs": [
        {
          "output_type": "display_data",
          "data": {
            "text/plain": [
              "<Figure size 640x480 with 1 Axes>"
            ],
            "image/png": "[encoded data removed]"
          },
          "metadata": {}
        }
      ]
    },
    {
      "cell_type": "code",
      "source": [
        "# Create the dataset\n",
        "train_dataset, val_dataset, test_dataset = bert_finetuner.create_dataset()"
      ],
      "metadata": {
        "id": "IZ4zOFukgkvt"
      },
      "execution_count": 60,
      "outputs": []
    },
    {
      "cell_type": "code",
      "source": [
        "# Fine-tune BERT model\n",
        "bert_finetuner.fine_tune_bert()"
      ],
      "metadata": {
        "colab": {
          "base_uri": "https://localhost:8080/",
          "height": 324
        },
        "id": "i6tlrL70g6P7",
        "outputId": "f46139d7-6cdb-4b57-9fd8-926986e4fa2e"
      },
      "execution_count": 61,
      "outputs": [
        {
          "output_type": "stream",
          "name": "stderr",
          "text": [
            "/usr/local/lib/python3.10/dist-packages/transformers/training_args.py:1474: FutureWarning: `evaluation_strategy` is deprecated and will be removed in version 4.46 of 🤗 Transformers. Use `eval_strategy` instead\n",
            "  warnings.warn(\n",
            "Some weights of BertForSequenceClassification were not initialized from the model checkpoint at bert-base-uncased and are newly initialized: ['classifier.bias', 'classifier.weight']\n",
            "You should probably TRAIN this model on a down-stream task to be able to use it for predictions and inference.\n"
          ]
        },
        {
          "output_type": "display_data",
          "data": {
            "text/plain": [
              "<IPython.core.display.HTML object>"
            ],
            "text/html": [
              "\n",
              "    <div>\n",
              "      \n",
              "      <progress value='1820' max='1820' style='width:300px; height:20px; vertical-align: middle;'></progress>\n",
              "      [1820/1820 07:34, Epoch 5/5]\n",
              "    </div>\n",
              "    <table border=\"1\" class=\"dataframe\">\n",
              "  <thead>\n",
              " <tr style=\"text-align: left;\">\n",
              "      <th>Epoch</th>\n",
              "      <th>Training Loss</th>\n",
              "      <th>Validation Loss</th>\n",
              "      <th>Accuracy</th>\n",
              "      <th>Precision</th>\n",
              "      <th>Recall</th>\n",
              "      <th>F1</th>\n",
              "    </tr>\n",
              "  </thead>\n",
              "  <tbody>\n",
              "    <tr>\n",
              "      <td>1</td>\n",
              "      <td>1.160500</td>\n",
              "      <td>1.033058</td>\n",
              "      <td>0.601648</td>\n",
              "      <td>0.607337</td>\n",
              "      <td>0.606787</td>\n",
              "      <td>0.599071</td>\n",
              "    </tr>\n",
              "    <tr>\n",
              "      <td>2</td>\n",
              "      <td>0.945000</td>\n",
              "      <td>1.001305</td>\n",
              "      <td>0.575549</td>\n",
              "      <td>0.583849</td>\n",
              "      <td>0.590049</td>\n",
              "      <td>0.571092</td>\n",
              "    </tr>\n",
              "    <tr>\n",
              "      <td>3</td>\n",
              "      <td>0.611800</td>\n",
              "      <td>1.110325</td>\n",
              "      <td>0.614011</td>\n",
              "      <td>0.619124</td>\n",
              "      <td>0.612928</td>\n",
              "      <td>0.613277</td>\n",
              "    </tr>\n",
              "    <tr>\n",
              "      <td>4</td>\n",
              "      <td>0.233800</td>\n",
              "      <td>1.571757</td>\n",
              "      <td>0.593407</td>\n",
              "      <td>0.600790</td>\n",
              "      <td>0.575812</td>\n",
              "      <td>0.582488</td>\n",
              "    </tr>\n",
              "    <tr>\n",
              "      <td>5</td>\n",
              "      <td>0.073800</td>\n",
              "      <td>1.818010</td>\n",
              "      <td>0.612637</td>\n",
              "      <td>0.614760</td>\n",
              "      <td>0.599272</td>\n",
              "      <td>0.605487</td>\n",
              "    </tr>\n",
              "  </tbody>\n",
              "</table><p>"
            ]
          },
          "metadata": {}
        }
      ]
    },
    {
      "cell_type": "code",
      "source": [
        "# Compute metrics\n",
        "bert_finetuner.evaluate_model()"
      ],
      "metadata": {
        "colab": {
          "base_uri": "https://localhost:8080/",
          "height": 75
        },
        "id": "5mEX1934jHWZ",
        "outputId": "e05743f0-862a-4662-de3b-847d4089d0d0"
      },
      "execution_count": 62,
      "outputs": [
        {
          "output_type": "display_data",
          "data": {
            "text/plain": [
              "<IPython.core.display.HTML object>"
            ],
            "text/html": [
              "\n",
              "    <div>\n",
              "      \n",
              "      <progress value='12' max='12' style='width:300px; height:20px; vertical-align: middle;'></progress>\n",
              "      [12/12 00:02]\n",
              "    </div>\n",
              "    "
            ]
          },
          "metadata": {}
        },
        {
          "output_type": "stream",
          "name": "stdout",
          "text": [
            "{'eval_loss': 1.035944938659668, 'eval_accuracy': 0.5975274725274725, 'eval_precision': 0.6124644234310725, 'eval_recall': 0.5876858824722931, 'eval_f1': 0.5839109508114854, 'eval_runtime': 2.392, 'eval_samples_per_second': 304.35, 'eval_steps_per_second': 5.017, 'epoch': 5.0}\n"
          ]
        }
      ]
    },
    {
      "cell_type": "code",
      "source": [
        "! huggingface-cli login"
      ],
      "metadata": {
        "colab": {
          "base_uri": "https://localhost:8080/"
        },
        "id": "QSDlma9RlnBD",
        "outputId": "c48f91a2-74ce-4324-e782-3c0cdbbee1c5"
      },
      "execution_count": 44,
      "outputs": [
        {
          "output_type": "stream",
          "name": "stdout",
          "text": [
            "\n",
            "    _|    _|  _|    _|    _|_|_|    _|_|_|  _|_|_|  _|      _|    _|_|_|      _|_|_|_|    _|_|      _|_|_|  _|_|_|_|\n",
            "    _|    _|  _|    _|  _|        _|          _|    _|_|    _|  _|            _|        _|    _|  _|        _|\n",
            "    _|_|_|_|  _|    _|  _|  _|_|  _|  _|_|    _|    _|  _|  _|  _|  _|_|      _|_|_|    _|_|_|_|  _|        _|_|_|\n",
            "    _|    _|  _|    _|  _|    _|  _|    _|    _|    _|    _|_|  _|    _|      _|        _|    _|  _|        _|\n",
            "    _|    _|    _|_|      _|_|_|    _|_|_|  _|_|_|  _|      _|    _|_|_|      _|        _|    _|    _|_|_|  _|_|_|_|\n",
            "\n",
            "    To login, `huggingface_hub` requires a token generated from https://huggingface.co/settings/tokens .\n",
            "Enter your token (input will not be visible): \n",
            "Add token as git credential? (Y/n) n\n",
            "Token is valid (permission: fineGrained).\n",
            "Your token has been saved to /root/.cache/huggingface/token\n",
            "Login successful\n"
          ]
        }
      ]
    },
    {
      "cell_type": "code",
      "source": [
        "# Save the model (optional)\n",
        "bert_finetuner.save_model('Movie_Genre_Classifier_v2')"
      ],
      "metadata": {
        "colab": {
          "base_uri": "https://localhost:8080/",
          "height": 81,
          "referenced_widgets": [
            "cf419130b66f4317ae1e190084e60b7f",
            "f64e91213194489d9601e2a40472dc5e",
            "719752b9e93e4e75a3c4e7e58c3b1a3c",
            "eab2caf94a31474eb0872214dc2a43b1",
            "3bc636ecea8247ebac783d2a7075e1eb",
            "776d4aba86a74654ac6ce63ee264d435",
            "e6d815408a1f490aabe67de47f838c8d",
            "8e1859fbb00a4b93b909a99d3dbae6f8",
            "e2422cddae224efda1ef8d0cd21b0a80",
            "1e92524529cd4acbaba45431bfa25308",
            "17c1fcdede044529a652963e3c5cce24",
            "0bd0412c017840a4bac1e9d9d39541aa",
            "6d7535681b024fedafb1bbf6b1886bc6",
            "2fb542491f7747698f636cd02c95a0d2",
            "20ff4860e8864eeb8c23c2b721ca1a95",
            "b01304624c7b4717a173f76e2231ae1d",
            "27886bcf91be4fd0b3eb70a146fb2353",
            "78e0fa5444a448038d9758ff91ed2737",
            "135ef7b353204655a7b69f34737de6f0",
            "44ce2990017c488bb850749ca25d5627",
            "806200795e70429cbadb424fd8d205e1",
            "213d0f4a1124410e8d6defdf4276aaba"
          ]
        },
        "id": "6319ncYSlwnk",
        "outputId": "096394ef-a487-4acd-c7aa-46256c83c206"
      },
      "execution_count": 63,
      "outputs": [
        {
          "output_type": "display_data",
          "data": {
            "text/plain": [
              "README.md:   0%|          | 0.00/5.17k [00:00<?, ?B/s]"
            ],
            "application/vnd.jupyter.widget-view+json": {
              "version_major": 2,
              "version_minor": 0,
              "model_id": "cf419130b66f4317ae1e190084e60b7f"
            }
          },
          "metadata": {}
        },
        {
          "output_type": "display_data",
          "data": {
            "text/plain": [
              "model.safetensors:   0%|          | 0.00/438M [00:00<?, ?B/s]"
            ],
            "application/vnd.jupyter.widget-view+json": {
              "version_major": 2,
              "version_minor": 0,
              "model_id": "0bd0412c017840a4bac1e9d9d39541aa"
            }
          },
          "metadata": {}
        }
      ]
    }
  ]
}